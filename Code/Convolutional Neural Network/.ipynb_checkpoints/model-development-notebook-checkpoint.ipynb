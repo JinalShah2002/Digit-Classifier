{
 "cells": [
  {
   "cell_type": "markdown",
   "id": "a53f668a",
   "metadata": {},
   "source": [
    "# Digit Classifier"
   ]
  },
  {
   "cell_type": "markdown",
   "id": "e093adde",
   "metadata": {},
   "source": [
    "This notebook will serve as a model development notebook for a convolutional neural network (CNN) model."
   ]
  },
  {
   "cell_type": "code",
   "execution_count": null,
   "id": "ade91281",
   "metadata": {},
   "outputs": [],
   "source": []
  }
 ],
 "metadata": {
  "kernelspec": {
   "display_name": "Python 3",
   "language": "python",
   "name": "python3"
  },
  "language_info": {
   "codemirror_mode": {
    "name": "ipython",
    "version": 3
   },
   "file_extension": ".py",
   "mimetype": "text/x-python",
   "name": "python",
   "nbconvert_exporter": "python",
   "pygments_lexer": "ipython3",
   "version": "3.8.8"
  }
 },
 "nbformat": 4,
 "nbformat_minor": 5
}
